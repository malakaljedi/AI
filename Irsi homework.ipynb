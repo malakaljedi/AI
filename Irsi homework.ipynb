{
 "cells": [
  {
   "cell_type": "code",
   "execution_count": 2,
   "metadata": {
    "collapsed": true
   },
   "outputs": [],
   "source": [
    "import pandas as pd\n",
    "import matplotlib.pyplot as plt\n",
    "import seaborn as sns\n",
    "import numpy as np\n",
    "\n",
    "%matplotlib inline"
   ]
  },
  {
   "cell_type": "markdown",
   "metadata": {
    "collapsed": true
   },
   "source": [
    "Read the file "
   ]
  },
  {
   "cell_type": "code",
   "execution_count": 3,
   "metadata": {
    "collapsed": true
   },
   "outputs": [],
   "source": [
    "df_iris = pd.read_csv('iris-data.csv')"
   ]
  },
  {
   "cell_type": "markdown",
   "metadata": {
    "collapsed": true
   },
   "source": [
    "Classes بفصل ال"
   ]
  },
  {
   "cell_type": "code",
   "execution_count": 11,
   "metadata": {
    "collapsed": true
   },
   "outputs": [],
   "source": [
    "df_setosa_petal= df_iris[df_iris.iris_class == 'Iris-setosa']\n",
    "df_versicolor_petal= df_iris[df_iris.iris_class == 'Iris-versicolor']\n",
    "df_virginica_petal= df_iris[df_iris.iris_class == 'Iris-virginica']"
   ]
  },
  {
   "cell_type": "markdown",
   "metadata": {
    "collapsed": true
   },
   "source": [
    " لكل وحدة length and width بخزن ال"
   ]
  },
  {
   "cell_type": "code",
   "execution_count": 12,
   "metadata": {
    "collapsed": true
   },
   "outputs": [],
   "source": [
    "versicolor_petal_length=np.array(df_versicolor_petal['petal_length_cm'])\n",
    "versicolor_petal_width=np.array(df_versicolor_petal['petal_width_cm'])"
   ]
  },
  {
   "cell_type": "code",
   "execution_count": 13,
   "metadata": {
    "collapsed": true
   },
   "outputs": [],
   "source": [
    "virginica_petal_length=np.array(df_virginica_petal['petal_length_cm'])\n",
    "virginica_petal_width=np.array(df_virginica_petal['petal_width_cm'])"
   ]
  },
  {
   "cell_type": "code",
   "execution_count": 14,
   "metadata": {
    "collapsed": true
   },
   "outputs": [],
   "source": [
    "setosa_petal_length=np.array(df_setosa_petal['petal_length_cm'])\n",
    "setosa_petal_width=np.array(df_setosa_petal['petal_width_cm'])"
   ]
  },
  {
   "cell_type": "markdown",
   "metadata": {
    "collapsed": true
   },
   "source": [
    "لكل وحدة variance بحسب ال"
   ]
  },
  {
   "cell_type": "code",
   "execution_count": 16,
   "metadata": {},
   "outputs": [
    {
     "name": "stdout",
     "output_type": "stream",
     "text": [
      "0.2164\n"
     ]
    }
   ],
   "source": [
    "variance_versicolor= np.var(versicolor_petal_length)\n",
    "print(variance_versicolor)"
   ]
  },
  {
   "cell_type": "code",
   "execution_count": 17,
   "metadata": {},
   "outputs": [
    {
     "name": "stdout",
     "output_type": "stream",
     "text": [
      "0.0289462723865\n"
     ]
    }
   ],
   "source": [
    "variance_setosa = np.var(setosa_petal_length)\n",
    "print(variance_setosa)"
   ]
  },
  {
   "cell_type": "code",
   "execution_count": 18,
   "metadata": {},
   "outputs": [
    {
     "name": "stdout",
     "output_type": "stream",
     "text": [
      "0.298496\n"
     ]
    }
   ],
   "source": [
    "variance_virginica = np.var(virginica_petal_length)\n",
    "print(variance_virginica)"
   ]
  },
  {
   "cell_type": "markdown",
   "metadata": {
    "scrolled": true
   },
   "source": [
    "Draw the plot for the three classes"
   ]
  },
  {
   "cell_type": "code",
   "execution_count": 19,
   "metadata": {},
   "outputs": [
    {
     "data": {
      "image/png": "[encoded data removed]",
      "text/plain": [
       "<matplotlib.figure.Figure at 0xa5a7080>"
      ]
     },
     "metadata": {},
     "output_type": "display_data"
    }
   ],
   "source": [
    "_ = plt.plot(versicolor_petal_length, versicolor_petal_width, marker='.', linestyle='none', color = 'red')\n",
    "_ = plt.plot(setosa_petal_length, setosa_petal_width, marker='.', linestyle='none', color = 'green')\n",
    "_ = plt.plot(virginica_petal_length, virginica_petal_width, marker='.', linestyle='none', color = 'blue')\n",
    "\n",
    "# Set margins\n",
    "plt.margins(0.02)\n",
    "\n",
    "# Label the axes\n",
    "_ = plt.xlabel('petal length (cm)')\n",
    "_ = plt.ylabel('petal width (cm)')\n",
    "\n",
    "# Show the result\n",
    "plt.show()"
   ]
  },
  {
   "cell_type": "markdown",
   "metadata": {},
   "source": [
    "لكل وحدة covariance_matrix بحسب ال"
   ]
  },
  {
   "cell_type": "code",
   "execution_count": 22,
   "metadata": {},
   "outputs": [
    {
     "name": "stdout",
     "output_type": "stream",
     "text": [
      "[[ 0.02954932         nan]\n",
      " [        nan         nan]] [[ 0.22081633  0.07310204]\n",
      " [ 0.07310204  0.03910612]] [[ 0.30458776  0.04431837]\n",
      " [ 0.04431837  0.07657551]]\n",
      "nan 0.0731020408163 0.0443183673469\n"
     ]
    }
   ],
   "source": [
    "covariance_matrix_setosa = np.cov(setosa_petal_length, setosa_petal_width)\n",
    "covariance_matrix_versicolor = np.cov(versicolor_petal_length, versicolor_petal_width)\n",
    "covariance_matrix_virginica = np.cov(virginica_petal_length, virginica_petal_width)\n",
    "\n",
    "# Print covariance matrix\n",
    "print(covariance_matrix_setosa, covariance_matrix_versicolor, covariance_matrix_virginica)\n",
    "\n",
    "# Extract covariance of length and width of petals: petal_cov\n",
    "petal_cov_setosa = covariance_matrix_setosa[0,1]\n",
    "petal_cov_versicolor = covariance_matrix_versicolor[0,1]\n",
    "petal_cov_virginica = covariance_matrix_virginica[0,1]\n",
    "\n",
    "# Print the length/width covariance\n",
    "print(petal_cov_setosa, petal_cov_versicolor, petal_cov_virginica)"
   ]
  },
  {
   "cell_type": "markdown",
   "metadata": {},
   "source": [
    "Compute Pearson correlation coefficient between two arrays."
   ]
  },
  {
   "cell_type": "code",
   "execution_count": 25,
   "metadata": {},
   "outputs": [
    {
     "name": "stdout",
     "output_type": "stream",
     "text": [
      "nan 0.786668088523 0.290190094146\n"
     ]
    }
   ],
   "source": [
    "def pearson_r(x, y):\n",
    "    \"\"\"Compute Pearson correlation coefficient between two arrays.\"\"\"\n",
    "    # Compute correlation matrix: corr_mat\n",
    "    corr_mat = np.corrcoef(x, y)\n",
    "\n",
    "    # Return entry [0,1]\n",
    "    return corr_mat[0,1]\n",
    "\n",
    "# Compute Pearson correlation coefficient\n",
    "r_setosa = pearson_r(setosa_petal_length, setosa_petal_width)\n",
    "r_versicolor = pearson_r(versicolor_petal_width, versicolor_petal_length)\n",
    "r_virginica = pearson_r(virginica_petal_length, virginica_petal_width)\n",
    "\n",
    "# Print the result\n",
    "print(r_setosa, r_versicolor, r_virginica)"
   ]
  },
  {
   "cell_type": "markdown",
   "metadata": {},
   "source": [
    "Compute ECDF for a one-dimensional array of measurements."
   ]
  },
  {
   "cell_type": "code",
   "execution_count": 27,
   "metadata": {
    "collapsed": true
   },
   "outputs": [],
   "source": [
    "def ecdf(data):\n",
    "    \"\"\"Compute ECDF for a one-dimensional array of measurements.\"\"\"\n",
    "\n",
    "    # Number of data points: n\n",
    "    n = len(data)\n",
    "\n",
    "    # x-data for the ECDF: x\n",
    "    x = np.sort(data)\n",
    "\n",
    "    # y-data for the ECDF: y\n",
    "    y = np.arange(1, n+1) / n\n",
    "\n",
    "    return x, y"
   ]
  },
  {
   "cell_type": "markdown",
   "metadata": {},
   "source": [
    "Draw the plot for three classes "
   ]
  },
  {
   "cell_type": "code",
   "execution_count": 29,
   "metadata": {},
   "outputs": [
    {
     "data": {
      "image/png": "[encoded data removed]",
      "text/plain": [
       "<matplotlib.figure.Figure at 0xbb3f3c8>"
      ]
     },
     "metadata": {},
     "output_type": "display_data"
    }
   ],
   "source": [
    "setosa_petal_mean = np.mean(setosa_petal_length)\n",
    "setosa_petal_median = np.median(setosa_petal_length)\n",
    "setosa_petal_std = np.std(setosa_petal_length)\n",
    "\n",
    "versicolor_petal_mean = np.mean(versicolor_petal_length)\n",
    "versicolor_petal_median = np.median(versicolor_petal_length)\n",
    "versicolor_petal_std = np.std(versicolor_petal_length)\n",
    "\n",
    "virginica_petal_mean = np.mean(virginica_petal_length)\n",
    "virginica_petal_median = np.median(virginica_petal_length)\n",
    "virginica_petal_std = np.std(virginica_petal_length)\n",
    "\n",
    "x1, y1 = ecdf(setosa_petal_length)\n",
    "x2, y2 = ecdf(versicolor_petal_length)\n",
    "x3, y3 = ecdf(virginica_petal_length)\n",
    "\n",
    "_=plt.plot(x1, y1, marker='.', linestyle='none', color = 'blue')\n",
    "_=plt.plot((setosa_petal_mean, setosa_petal_mean),(0.1,0.9), marker='.', color = '#3399ff')\n",
    "_=plt.plot((setosa_petal_median, setosa_petal_median),(0.1,0.9), marker='_', color = '#0066ff')\n",
    "_=plt.plot((0,6),(setosa_petal_std, setosa_petal_std), marker='_', color = '#0033cc')\n",
    "\n",
    "_=plt.plot(x2, y2, marker='.', linestyle='none', color = 'green')\n",
    "_=plt.plot((versicolor_petal_mean,versicolor_petal_mean),(0.1,0.9), marker='.', color = '#99ff66')\n",
    "_=plt.plot((versicolor_petal_median,versicolor_petal_median),(0.1,0.9), marker='_', color = '#33cc33')\n",
    "_=plt.plot((0,6),(versicolor_petal_std, versicolor_petal_std), marker='_', color = '#008000')\n",
    "\n",
    "_=plt.plot(x3, y3, marker='.', linestyle='none', color='red')\n",
    "_=plt.plot((virginica_petal_mean ,virginica_petal_mean),(0.1,0.9), marker='.', color = '#ffcccc') #فاتح\n",
    "_=plt.plot((virginica_petal_median, virginica_petal_median),(0.1,0.9), marker='_', color = '#ff6666') #وسط\n",
    "_=plt.plot((0,6),(virginica_petal_std, virginica_petal_std), marker='_', color = '#990000') #غامق-خمري\n",
    "\n",
    "_=plt.xlabel('versicolor_petal_length')\n",
    "_=plt.ylabel('ECDF')\n",
    "plt.show()"
   ]
  },
  {
   "cell_type": "code",
   "execution_count": null,
   "metadata": {
    "collapsed": true
   },
   "outputs": [],
   "source": []
  }
 ],
 "metadata": {
  "kernelspec": {
   "display_name": "Python 3",
   "language": "python",
   "name": "python3"
  },
  "language_info": {
   "codemirror_mode": {
    "name": "ipython",
    "version": 3
   },
   "file_extension": ".py",
   "mimetype": "text/x-python",
   "name": "python",
   "nbconvert_exporter": "python",
   "pygments_lexer": "ipython3",
   "version": "3.6.1"
  }
 },
 "nbformat": 4,
 "nbformat_minor": 2
}
