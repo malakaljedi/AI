{
 "cells": [
  {
   "cell_type": "markdown",
   "metadata": {},
   "source": [
    "1.import the lib."
   ]
  },
  {
   "cell_type": "code",
   "execution_count": 1,
   "metadata": {
    "collapsed": true
   },
   "outputs": [],
   "source": [
    "import numpy as np # array\n",
    "import pandas as pd\n",
    "import matplotlib.pyplot as plt\n",
    "%matplotlib inline"
   ]
  },
  {
   "cell_type": "markdown",
   "metadata": {},
   "source": [
    "add the values in the table\n"
   ]
  },
  {
   "cell_type": "markdown",
   "metadata": {},
   "source": [
    "==> طريقة 1"
   ]
  },
  {
   "cell_type": "code",
   "execution_count": 4,
   "metadata": {
    "collapsed": true
   },
   "outputs": [],
   "source": [
    "male1995 = pd.Series([8.5,11.5,23.5,29.2,15.1,6.1,6.1],\n",
    "                    index=['Illiterate','Can Read and Write','Elementary','Preparatory','Secondary',\n",
    "                           'Associate Diploma','Bachelor and above'])"
   ]
  },
  {
   "cell_type": "markdown",
   "metadata": {},
   "source": [
    " ==> طريقة 2 "
   ]
  },
  {
   "cell_type": "code",
   "execution_count": 5,
   "metadata": {
    "collapsed": true
   },
   "outputs": [],
   "source": [
    "female1995= pd.Series({'Illiterate': 23.0,'Can Read and Write': 10.1,'Elementary': 21.3,\n",
    "                       'Preparatory': 25.9,'Secondary': 12.5,'Associate Diploma': 4.8,'Bachelor and above': 2.4})\n",
    "\n",
    "bothsexes1995= pd.Series({'Illiterate': 15.7,'Can Read and Write': 10.8,'Elementary': 22.4,\n",
    "                          'Preparatory': 27.5,'Secondary': 13.8,'Associate Diploma': 5.5,'Bachelor and above': 4.3})"
   ]
  },
  {
   "cell_type": "markdown",
   "metadata": {},
   "source": [
    "بدي ارسم الجدول .. اعطيته اسم العمود ومعلوماته "
   ]
  },
  {
   "cell_type": "code",
   "execution_count": 7,
   "metadata": {},
   "outputs": [
    {
     "data": {
      "text/html": [
       "<div>\n",
       "<style>\n",
       "    .dataframe thead tr:only-child th {\n",
       "        text-align: right;\n",
       "    }\n",
       "\n",
       "    .dataframe thead th {\n",
       "        text-align: left;\n",
       "    }\n",
       "\n",
       "    .dataframe tbody tr th {\n",
       "        vertical-align: top;\n",
       "    }\n",
       "</style>\n",
       "<table border=\"1\" class=\"dataframe\">\n",
       "  <thead>\n",
       "    <tr style=\"text-align: right;\">\n",
       "      <th></th>\n",
       "      <th>bothsexes</th>\n",
       "      <th>female</th>\n",
       "      <th>male</th>\n",
       "    </tr>\n",
       "  </thead>\n",
       "  <tbody>\n",
       "    <tr>\n",
       "      <th>Associate Diploma</th>\n",
       "      <td>5.5</td>\n",
       "      <td>4.8</td>\n",
       "      <td>6.1</td>\n",
       "    </tr>\n",
       "    <tr>\n",
       "      <th>Bachelor and above</th>\n",
       "      <td>4.3</td>\n",
       "      <td>2.4</td>\n",
       "      <td>6.1</td>\n",
       "    </tr>\n",
       "    <tr>\n",
       "      <th>Can Read and Write</th>\n",
       "      <td>10.8</td>\n",
       "      <td>10.1</td>\n",
       "      <td>11.5</td>\n",
       "    </tr>\n",
       "    <tr>\n",
       "      <th>Elementary</th>\n",
       "      <td>22.4</td>\n",
       "      <td>21.3</td>\n",
       "      <td>23.5</td>\n",
       "    </tr>\n",
       "    <tr>\n",
       "      <th>Illiterate</th>\n",
       "      <td>15.7</td>\n",
       "      <td>23.0</td>\n",
       "      <td>8.5</td>\n",
       "    </tr>\n",
       "    <tr>\n",
       "      <th>Preparatory</th>\n",
       "      <td>27.5</td>\n",
       "      <td>25.9</td>\n",
       "      <td>29.2</td>\n",
       "    </tr>\n",
       "    <tr>\n",
       "      <th>Secondary</th>\n",
       "      <td>13.8</td>\n",
       "      <td>12.5</td>\n",
       "      <td>15.1</td>\n",
       "    </tr>\n",
       "  </tbody>\n",
       "</table>\n",
       "</div>"
      ],
      "text/plain": [
       "                    bothsexes  female  male\n",
       "Associate Diploma         5.5     4.8   6.1\n",
       "Bachelor and above        4.3     2.4   6.1\n",
       "Can Read and Write       10.8    10.1  11.5\n",
       "Elementary               22.4    21.3  23.5\n",
       "Illiterate               15.7    23.0   8.5\n",
       "Preparatory              27.5    25.9  29.2\n",
       "Secondary                13.8    12.5  15.1"
      ]
     },
     "execution_count": 7,
     "metadata": {},
     "output_type": "execute_result"
    }
   ],
   "source": [
    "educationalattainment = pd.DataFrame({'male': male1995,'female': female1995, 'bothsexes' : bothsexes1995})\n",
    "educationalattainment"
   ]
  },
  {
   "cell_type": "markdown",
   "metadata": {},
   "source": [
    " .. وبقدر مباشرة اعملهم بخطوة"
   ]
  },
  {
   "cell_type": "code",
   "execution_count": 9,
   "metadata": {},
   "outputs": [
    {
     "data": {
      "text/html": [
       "<div>\n",
       "<style>\n",
       "    .dataframe thead tr:only-child th {\n",
       "        text-align: right;\n",
       "    }\n",
       "\n",
       "    .dataframe thead th {\n",
       "        text-align: left;\n",
       "    }\n",
       "\n",
       "    .dataframe tbody tr th {\n",
       "        vertical-align: top;\n",
       "    }\n",
       "</style>\n",
       "<table border=\"1\" class=\"dataframe\">\n",
       "  <thead>\n",
       "    <tr style=\"text-align: right;\">\n",
       "      <th></th>\n",
       "      <th>Education</th>\n",
       "      <th>Gender</th>\n",
       "      <th>Height</th>\n",
       "    </tr>\n",
       "  </thead>\n",
       "  <tbody>\n",
       "    <tr>\n",
       "      <th>0</th>\n",
       "      <td>College</td>\n",
       "      <td>Male</td>\n",
       "      <td>70</td>\n",
       "    </tr>\n",
       "    <tr>\n",
       "      <th>1</th>\n",
       "      <td>College</td>\n",
       "      <td>Female</td>\n",
       "      <td>68</td>\n",
       "    </tr>\n",
       "    <tr>\n",
       "      <th>2</th>\n",
       "      <td>HighSchool</td>\n",
       "      <td>Male</td>\n",
       "      <td>69</td>\n",
       "    </tr>\n",
       "  </tbody>\n",
       "</table>\n",
       "</div>"
      ],
      "text/plain": [
       "    Education  Gender  Height\n",
       "0     College    Male      70\n",
       "1     College  Female      68\n",
       "2  HighSchool    Male      69"
      ]
     },
     "execution_count": 9,
     "metadata": {},
     "output_type": "execute_result"
    }
   ],
   "source": [
    "individuals= pd.DataFrame([{'Education': 'College', 'Height': 70, 'Gender': 'Male'},\n",
    "                           {'Education': 'College', 'Height': 68, 'Gender': 'Female'},\n",
    "                          {'Education': 'HighSchool', 'Height': 69, 'Gender': 'Male'}])\n",
    "individuals"
   ]
  },
  {
   "cell_type": "markdown",
   "metadata": {},
   "source": [
    "Bar Chart"
   ]
  },
  {
   "cell_type": "code",
   "execution_count": 10,
   "metadata": {},
   "outputs": [
    {
     "data": {
      "image/png": "[encoded data removed]",
      "text/plain": [
       "<matplotlib.figure.Figure at 0x97ff940>"
      ]
     },
     "metadata": {},
     "output_type": "display_data"
    }
   ],
   "source": [
    "objects = ('College', 'HighSchool', 'beyound college')\n",
    "\n",
    "# اعطيته القيم ل ال3 اعمدة\n",
    "pop=[50,20,15]\n",
    "\n",
    "# بعطيني طولها \n",
    "n=len(objects)\n",
    "\n",
    "# من 0-2 INTERVAL بعطيني\n",
    "y_pos = np.arange(n)\n",
    "\n",
    "# bar بدي ارسم \n",
    "plt.bar(y_pos, pop, align='center', alpha=0.5)\n",
    "\n",
    "# حطيت الكلمات ب محور السينات\n",
    "plt.xticks(y_pos, objects)\n",
    "\n",
    "# label اعطيت \n",
    "plt.ylabel('pop')\n",
    "\n",
    "# title و\n",
    "plt.title('Education')\n",
    " \n",
    "# عملت عرض للرسمة   \n",
    "plt.show()"
   ]
  },
  {
   "cell_type": "markdown",
   "metadata": {},
   "source": [
    "من الرسمة هاي بقدر اعرف بسهولة انو الناس يلي درسو جامعة وتوقفو عندها همة اكتر فئة .. "
   ]
  },
  {
   "cell_type": "markdown",
   "metadata": {},
   "source": [
    " "
   ]
  },
  {
   "cell_type": "markdown",
   "metadata": {},
   "source": [
    "بدي اقلب بدل الاعمدة ==> اسطر "
   ]
  },
  {
   "cell_type": "code",
   "execution_count": 12,
   "metadata": {},
   "outputs": [
    {
     "data": {
      "image/png": "[encoded data removed]",
      "text/plain": [
       "<matplotlib.figure.Figure at 0x9869048>"
      ]
     },
     "metadata": {},
     "output_type": "display_data"
    }
   ],
   "source": [
    "# Rows اسماء ال\n",
    "Deaths = ('Car accident','others')\n",
    "\n",
    "# Rows قيم ال\n",
    "percentage = [30, 15]\n",
    "\n",
    "# calc. length\n",
    "n1=len(Deaths)\n",
    "\n",
    "# interval from 0-1\n",
    "y_pos = np.arange(n1)\n",
    "\n",
    "# bar حددت انو ال ==> horizontal \n",
    "plt.barh(y_pos, percentage, align='center', alpha=0.5)\n",
    "\n",
    "# y حطيت الكلمات ب \n",
    "plt.yticks(y_pos, Deaths)\n",
    "\n",
    "# title اعطيته\n",
    "plt.title('cause of death')\n",
    "\n",
    "# اعرض \n",
    "plt.show()"
   ]
  },
  {
   "cell_type": "markdown",
   "metadata": {},
   "source": [
    "رجعت للجدول الاول وعملتلو رسم ل ال3 اعمدة لحتى اقارن بينهم "
   ]
  },
  {
   "cell_type": "code",
   "execution_count": 16,
   "metadata": {},
   "outputs": [
    {
     "data": {
      "text/plain": [
       "<matplotlib.axes._subplots.AxesSubplot at 0x9a9cba8>"
      ]
     },
     "execution_count": 16,
     "metadata": {},
     "output_type": "execute_result"
    },
    {
     "data": {
      "text/plain": [
       "<matplotlib.figure.Figure at 0x97ff7f0>"
      ]
     },
     "metadata": {},
     "output_type": "display_data"
    },
    {
     "data": {
      "image/png": "[encoded data removed]",
      "text/plain": [
       "<matplotlib.figure.Figure at 0x9b39518>"
      ]
     },
     "metadata": {},
     "output_type": "display_data"
    }
   ],
   "source": [
    "plt.figure()\n",
    "educationalattainment.plot()"
   ]
  },
  {
   "cell_type": "code",
   "execution_count": null,
   "metadata": {
    "collapsed": true
   },
   "outputs": [],
   "source": []
  }
 ],
 "metadata": {
  "kernelspec": {
   "display_name": "Python 3",
   "language": "python",
   "name": "python3"
  },
  "language_info": {
   "codemirror_mode": {
    "name": "ipython",
    "version": 3
   },
   "file_extension": ".py",
   "mimetype": "text/x-python",
   "name": "python",
   "nbconvert_exporter": "python",
   "pygments_lexer": "ipython3",
   "version": "3.6.1"
  }
 },
 "nbformat": 4,
 "nbformat_minor": 2
}
