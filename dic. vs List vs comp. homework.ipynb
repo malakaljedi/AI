{
 "cells": [
  {
   "cell_type": "code",
   "execution_count": 2,
   "metadata": {
    "collapsed": true
   },
   "outputs": [],
   "source": [
    "#Array \n",
    "c ={\"Italy\":\"Rome\", \"Luxembourg\":\"Luxembourg\", \"Belgium\":\"Brussels\", \"Denmark\":\"Copenhagen\", \"Finland\":\"Helsinki\",\n",
    "    \"France\":\"Paris\", \"Slovakia\":\"Bratislava\", \"Slovenia\":\"Ljubljana\", \"Germany\":\"Berlin\",\"Greece\":\"Athens\"}\n"
   ]
  },
  {
   "cell_type": "markdown",
   "metadata": {},
   "source": [
    "# Dictionaries\n"
   ]
  },
  {
   "cell_type": "code",
   "execution_count": 3,
   "metadata": {},
   "outputs": [
    {
     "name": "stdout",
     "output_type": "stream",
     "text": [
      "The capital of Italy is Rome\n",
      "The capital of Luxembourg is Luxembourg\n",
      "The capital of Belgium is Brussels\n",
      "The capital of Denmark is Copenhagen\n",
      "The capital of Finland is Helsinki\n",
      "The capital of France is Paris\n",
      "The capital of Slovakia is Bratislava\n",
      "The capital of Slovenia is Ljubljana\n",
      "The capital of Germany is Berlin\n",
      "The capital of Greece is Athens\n"
     ]
    }
   ],
   "source": [
    "for key in c:\n",
    "    print(\"The capital of\",key, \"is\",c[key])"
   ]
  },
  {
   "cell_type": "markdown",
   "metadata": {},
   "source": [
    "# List"
   ]
  },
  {
   "cell_type": "code",
   "execution_count": 4,
   "metadata": {
    "collapsed": true
   },
   "outputs": [],
   "source": [
    "a = []\n",
    "b = []\n",
    "for key in c:\n",
    "   a.append(key)\n",
    "   b.append(c[key])\n"
   ]
  },
  {
   "cell_type": "code",
   "execution_count": 5,
   "metadata": {},
   "outputs": [
    {
     "name": "stdout",
     "output_type": "stream",
     "text": [
      "The Capital of Italy is Rome\n",
      "The Capital of Luxembourg is Luxembourg\n",
      "The Capital of Belgium is Brussels\n",
      "The Capital of Denmark is Copenhagen\n",
      "The Capital of Finland is Helsinki\n",
      "The Capital of France is Paris\n",
      "The Capital of Slovakia is Bratislava\n",
      "The Capital of Slovenia is Ljubljana\n",
      "The Capital of Germany is Berlin\n",
      "The Capital of Greece is Athens\n"
     ]
    }
   ],
   "source": [
    "for i in range(10):\n",
    "    print(\"The Capital of\",a[i],\"is\",b[i])"
   ]
  },
  {
   "cell_type": "markdown",
   "metadata": {},
   "source": [
    "# Comprehension"
   ]
  },
  {
   "cell_type": "code",
   "execution_count": 7,
   "metadata": {},
   "outputs": [
    {
     "data": {
      "text/plain": [
       "{'Athens': 'Greece',\n",
       " 'Berlin': 'Germany',\n",
       " 'Bratislava': 'Slovakia',\n",
       " 'Brussels': 'Belgium',\n",
       " 'Copenhagen': 'Denmark',\n",
       " 'Helsinki': 'Finland',\n",
       " 'Ljubljana': 'Slovenia',\n",
       " 'Luxembourg': 'Luxembourg',\n",
       " 'Paris': 'France',\n",
       " 'Rome': 'Italy'}"
      ]
     },
     "execution_count": 7,
     "metadata": {},
     "output_type": "execute_result"
    }
   ],
   "source": [
    "capitals = {c[key] : key for key in c}\n",
    "capitals"
   ]
  },
  {
   "cell_type": "code",
   "execution_count": null,
   "metadata": {
    "collapsed": true
   },
   "outputs": [],
   "source": []
  }
 ],
 "metadata": {
  "kernelspec": {
   "display_name": "Python 3",
   "language": "python",
   "name": "python3"
  },
  "language_info": {
   "codemirror_mode": {
    "name": "ipython",
    "version": 3
   },
   "file_extension": ".py",
   "mimetype": "text/x-python",
   "name": "python",
   "nbconvert_exporter": "python",
   "pygments_lexer": "ipython3",
   "version": "3.6.1"
  }
 },
 "nbformat": 4,
 "nbformat_minor": 2
}
